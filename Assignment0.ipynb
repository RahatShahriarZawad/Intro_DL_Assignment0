{
  "cells": [
    {
      "cell_type": "markdown",
      "metadata": {},
      "source": [
        "Numpy for Matlab Users"
      ]
    },
    {
      "cell_type": "markdown",
      "metadata": {},
      "source": [
        "Linear algebra equivalents"
      ]
    },
    {
      "cell_type": "code",
      "execution_count": 109,
      "metadata": {
        "id": "PA7_ljFylKV-"
      },
      "outputs": [],
      "source": [
        "import numpy as np\n",
        "from scipy import io, integrate, linalg, signal\n",
        "from scipy.sparse.linalg import cg, eigs"
      ]
    },
    {
      "cell_type": "code",
      "execution_count": 3,
      "metadata": {
        "colab": {
          "base_uri": "https://localhost:8080/"
        },
        "id": "tx9r9rsnlRJe",
        "outputId": "0ef765a4-e83b-4d79-e13e-978dbeaac8ad"
      },
      "outputs": [
        {
          "name": "stdout",
          "output_type": "stream",
          "text": [
            "1\n",
            "2\n",
            "3\n"
          ]
        }
      ],
      "source": [
        "for i in range(1, 4):\n",
        "   print(i)"
      ]
    },
    {
      "cell_type": "code",
      "execution_count": 4,
      "metadata": {
        "colab": {
          "base_uri": "https://localhost:8080/"
        },
        "id": "i2p3fzsCpX8a",
        "outputId": "455ef861-030f-4770-c665-381dcdb601bd"
      },
      "outputs": [
        {
          "data": {
            "text/plain": [
              "True"
            ]
          },
          "execution_count": 4,
          "metadata": {},
          "output_type": "execute_result"
        }
      ],
      "source": [
        "4 == 4"
      ]
    },
    {
      "cell_type": "code",
      "execution_count": 5,
      "metadata": {
        "colab": {
          "base_uri": "https://localhost:8080/"
        },
        "id": "hI3ZhlETlRHG",
        "outputId": "08594ecf-477b-46c4-a60b-cf0423024ff7"
      },
      "outputs": [
        {
          "data": {
            "text/plain": [
              "False"
            ]
          },
          "execution_count": 5,
          "metadata": {},
          "output_type": "execute_result"
        }
      ],
      "source": [
        "4 == 5"
      ]
    },
    {
      "cell_type": "code",
      "execution_count": 6,
      "metadata": {
        "colab": {
          "base_uri": "https://localhost:8080/"
        },
        "id": "0kMkGS6alREm",
        "outputId": "af9cb519-ee90-45ff-e73e-8c7251eb429e"
      },
      "outputs": [
        {
          "name": "stdout",
          "output_type": "stream",
          "text": [
            "a = 4\n"
          ]
        }
      ],
      "source": [
        "a = 4\n",
        "if a == 4:\n",
        "    print('a = 4')\n",
        "elif a == 5:\n",
        "    print('a = 5')"
      ]
    },
    {
      "cell_type": "code",
      "execution_count": 7,
      "metadata": {
        "id": "XFnEZKGipZ2C"
      },
      "outputs": [],
      "source": [
        "a = np.array([[1, 2, 3],\n",
        "              [4, 5, 6]])"
      ]
    },
    {
      "cell_type": "code",
      "execution_count": 8,
      "metadata": {
        "colab": {
          "base_uri": "https://localhost:8080/"
        },
        "id": "Jax9Ic4tlRCH",
        "outputId": "4f737a65-49a4-4d00-d231-aa14caf06845"
      },
      "outputs": [
        {
          "data": {
            "text/plain": [
              "2"
            ]
          },
          "execution_count": 8,
          "metadata": {},
          "output_type": "execute_result"
        }
      ],
      "source": [
        "np.ndim(a)"
      ]
    },
    {
      "cell_type": "code",
      "execution_count": 9,
      "metadata": {
        "colab": {
          "base_uri": "https://localhost:8080/"
        },
        "id": "hXLg_UrAlQ-R",
        "outputId": "e3513742-11e8-4eb1-c0cc-37e0019113e0"
      },
      "outputs": [
        {
          "data": {
            "text/plain": [
              "6"
            ]
          },
          "execution_count": 9,
          "metadata": {},
          "output_type": "execute_result"
        }
      ],
      "source": [
        "np.size(a)"
      ]
    },
    {
      "cell_type": "code",
      "execution_count": 10,
      "metadata": {
        "colab": {
          "base_uri": "https://localhost:8080/"
        },
        "id": "67PvgA8WlQ7p",
        "outputId": "2c0a53ef-2618-4328-c33a-30a4361a6fbb"
      },
      "outputs": [
        {
          "data": {
            "text/plain": [
              "(2, 3)"
            ]
          },
          "execution_count": 10,
          "metadata": {},
          "output_type": "execute_result"
        }
      ],
      "source": [
        "np.shape(a)"
      ]
    },
    {
      "cell_type": "code",
      "execution_count": 11,
      "metadata": {
        "colab": {
          "base_uri": "https://localhost:8080/"
        },
        "id": "UV-jyaY-lQ4H",
        "outputId": "1773298c-8ca5-4901-cef8-8c432b9e94cb"
      },
      "outputs": [
        {
          "data": {
            "text/plain": [
              "3"
            ]
          },
          "execution_count": 11,
          "metadata": {},
          "output_type": "execute_result"
        }
      ],
      "source": [
        "n = 2\n",
        "a.shape[n-1]"
      ]
    },
    {
      "cell_type": "code",
      "execution_count": 12,
      "metadata": {
        "colab": {
          "base_uri": "https://localhost:8080/"
        },
        "id": "wku_xBmYlQ1l",
        "outputId": "8f05b56f-f341-4cde-b346-5b74cf792947"
      },
      "outputs": [
        {
          "data": {
            "text/plain": [
              "array([[1., 2., 3.],\n",
              "       [4., 5., 6.]])"
            ]
          },
          "execution_count": 12,
          "metadata": {},
          "output_type": "execute_result"
        }
      ],
      "source": [
        "np.array([[1., 2., 3.], [4., 5., 6.]])"
      ]
    },
    {
      "cell_type": "code",
      "execution_count": 13,
      "metadata": {
        "id": "Hqc8BvYCroHE"
      },
      "outputs": [],
      "source": [
        "a = np.arange(1, 5*6 + 1).reshape(5, 6)\n",
        "b = np.arange(1, 5*6 + 1, dtype=float).reshape(5, 6)\n",
        "c = np.arange(1, 4*6 + 1, dtype=float).reshape(4, 6)\n",
        "d = np.arange(2, 2 + 4*6, dtype=float).reshape(4, 6)"
      ]
    },
    {
      "cell_type": "code",
      "execution_count": 14,
      "metadata": {
        "colab": {
          "base_uri": "https://localhost:8080/"
        },
        "id": "-wuD3dR_lQzY",
        "outputId": "c373af25-58f7-4f61-f213-bc2d0ad79574"
      },
      "outputs": [
        {
          "data": {
            "text/plain": [
              "array([[ 1.,  2.,  3.,  4.,  5.,  6.,  1.,  2.,  3.,  4.,  5.,  6.],\n",
              "       [ 7.,  8.,  9., 10., 11., 12.,  7.,  8.,  9., 10., 11., 12.],\n",
              "       [13., 14., 15., 16., 17., 18., 13., 14., 15., 16., 17., 18.],\n",
              "       [19., 20., 21., 22., 23., 24., 19., 20., 21., 22., 23., 24.],\n",
              "       [25., 26., 27., 28., 29., 30., 25., 26., 27., 28., 29., 30.],\n",
              "       [ 1.,  2.,  3.,  4.,  5.,  6.,  2.,  3.,  4.,  5.,  6.,  7.],\n",
              "       [ 7.,  8.,  9., 10., 11., 12.,  8.,  9., 10., 11., 12., 13.],\n",
              "       [13., 14., 15., 16., 17., 18., 14., 15., 16., 17., 18., 19.],\n",
              "       [19., 20., 21., 22., 23., 24., 20., 21., 22., 23., 24., 25.]])"
            ]
          },
          "execution_count": 14,
          "metadata": {},
          "output_type": "execute_result"
        }
      ],
      "source": [
        "np.block([[a, b], [c, d]])"
      ]
    },
    {
      "cell_type": "code",
      "execution_count": 15,
      "metadata": {
        "colab": {
          "base_uri": "https://localhost:8080/"
        },
        "id": "2so6ryFClQxK",
        "outputId": "da904795-3514-423d-e456-c71451738043"
      },
      "outputs": [
        {
          "data": {
            "text/plain": [
              "array([25, 26, 27, 28, 29, 30])"
            ]
          },
          "execution_count": 15,
          "metadata": {},
          "output_type": "execute_result"
        }
      ],
      "source": [
        "a[-1]"
      ]
    },
    {
      "cell_type": "code",
      "execution_count": 16,
      "metadata": {
        "colab": {
          "base_uri": "https://localhost:8080/"
        },
        "id": "w9AO5RwXlQrx",
        "outputId": "a4114175-9867-49e1-9c9b-e23428368bc0"
      },
      "outputs": [
        {
          "data": {
            "text/plain": [
              "11"
            ]
          },
          "execution_count": 16,
          "metadata": {},
          "output_type": "execute_result"
        }
      ],
      "source": [
        "a[1, 4]"
      ]
    },
    {
      "cell_type": "code",
      "execution_count": 17,
      "metadata": {
        "colab": {
          "base_uri": "https://localhost:8080/"
        },
        "id": "Va3KvBA1l-ed",
        "outputId": "ea2b7288-0d46-4e23-a760-8dfc079ac249"
      },
      "outputs": [
        {
          "data": {
            "text/plain": [
              "array([ 7,  8,  9, 10, 11, 12])"
            ]
          },
          "execution_count": 17,
          "metadata": {},
          "output_type": "execute_result"
        }
      ],
      "source": [
        "a[1]"
      ]
    },
    {
      "cell_type": "code",
      "execution_count": 18,
      "metadata": {
        "colab": {
          "base_uri": "https://localhost:8080/"
        },
        "id": "MWao4tYMl-b2",
        "outputId": "5f6823c3-8a33-414d-88cc-0c862f6bf490"
      },
      "outputs": [
        {
          "data": {
            "text/plain": [
              "array([[ 1,  2,  3,  4,  5,  6],\n",
              "       [ 7,  8,  9, 10, 11, 12],\n",
              "       [13, 14, 15, 16, 17, 18],\n",
              "       [19, 20, 21, 22, 23, 24],\n",
              "       [25, 26, 27, 28, 29, 30]])"
            ]
          },
          "execution_count": 18,
          "metadata": {},
          "output_type": "execute_result"
        }
      ],
      "source": [
        "\n",
        "a[0:5]"
      ]
    },
    {
      "cell_type": "code",
      "execution_count": 19,
      "metadata": {
        "colab": {
          "base_uri": "https://localhost:8080/"
        },
        "id": "I7b1UX_Kl-Zf",
        "outputId": "5ae758bf-4fb0-4404-89bf-aabf9850d6b8"
      },
      "outputs": [
        {
          "data": {
            "text/plain": [
              "array([[ 1,  2,  3,  4,  5,  6],\n",
              "       [ 7,  8,  9, 10, 11, 12],\n",
              "       [13, 14, 15, 16, 17, 18],\n",
              "       [19, 20, 21, 22, 23, 24],\n",
              "       [25, 26, 27, 28, 29, 30]])"
            ]
          },
          "execution_count": 19,
          "metadata": {},
          "output_type": "execute_result"
        }
      ],
      "source": [
        "a[0:5, :]"
      ]
    },
    {
      "cell_type": "code",
      "execution_count": 20,
      "metadata": {
        "colab": {
          "base_uri": "https://localhost:8080/"
        },
        "id": "V-SwpRZOl-XG",
        "outputId": "5d49449d-72fc-485c-c349-83804b32171b"
      },
      "outputs": [
        {
          "data": {
            "text/plain": [
              "array([[ 1,  2,  3,  4,  5,  6],\n",
              "       [ 7,  8,  9, 10, 11, 12],\n",
              "       [13, 14, 15, 16, 17, 18],\n",
              "       [19, 20, 21, 22, 23, 24],\n",
              "       [25, 26, 27, 28, 29, 30]])"
            ]
          },
          "execution_count": 20,
          "metadata": {},
          "output_type": "execute_result"
        }
      ],
      "source": [
        "a[-5:]"
      ]
    },
    {
      "cell_type": "code",
      "execution_count": 21,
      "metadata": {
        "colab": {
          "base_uri": "https://localhost:8080/"
        },
        "id": "AYE780sCl-Sl",
        "outputId": "23fab231-5a92-442f-9964-4c22f8fb8ba2"
      },
      "outputs": [
        {
          "data": {
            "text/plain": [
              "array([[ 5,  6],\n",
              "       [11, 12],\n",
              "       [17, 18]])"
            ]
          },
          "execution_count": 21,
          "metadata": {},
          "output_type": "execute_result"
        }
      ],
      "source": [
        "a[0:3, 4:9]"
      ]
    },
    {
      "cell_type": "code",
      "execution_count": 22,
      "metadata": {
        "colab": {
          "base_uri": "https://localhost:8080/"
        },
        "id": "Inw3w92Il-QO",
        "outputId": "5f3b1a4b-181e-48a8-927e-f9af6b61d95a"
      },
      "outputs": [
        {
          "data": {
            "text/plain": [
              "array([[ 7,  9],\n",
              "       [19, 21],\n",
              "       [25, 27]])"
            ]
          },
          "execution_count": 22,
          "metadata": {},
          "output_type": "execute_result"
        }
      ],
      "source": [
        "a[np.ix_([1, 3, 4], [0, 2])]"
      ]
    },
    {
      "cell_type": "code",
      "execution_count": 23,
      "metadata": {
        "colab": {
          "base_uri": "https://localhost:8080/"
        },
        "id": "gUuDloHKl-No",
        "outputId": "b23d951a-3bf7-4ca7-f77f-00e0cd455ebe"
      },
      "outputs": [
        {
          "data": {
            "text/plain": [
              "array([[13, 14, 15, 16, 17, 18],\n",
              "       [25, 26, 27, 28, 29, 30]])"
            ]
          },
          "execution_count": 23,
          "metadata": {},
          "output_type": "execute_result"
        }
      ],
      "source": [
        "a[2:21:2,:]"
      ]
    },
    {
      "cell_type": "code",
      "execution_count": 24,
      "metadata": {
        "colab": {
          "base_uri": "https://localhost:8080/"
        },
        "id": "EkDmcAAPl-LQ",
        "outputId": "333faa65-20ff-41da-efcc-e0b3916bd257"
      },
      "outputs": [
        {
          "data": {
            "text/plain": [
              "array([[ 1,  2,  3,  4,  5,  6],\n",
              "       [13, 14, 15, 16, 17, 18],\n",
              "       [25, 26, 27, 28, 29, 30]])"
            ]
          },
          "execution_count": 24,
          "metadata": {},
          "output_type": "execute_result"
        }
      ],
      "source": [
        "a[::2, :]"
      ]
    },
    {
      "cell_type": "code",
      "execution_count": 25,
      "metadata": {
        "colab": {
          "base_uri": "https://localhost:8080/"
        },
        "id": "xjiKxmAvmSL7",
        "outputId": "554435af-0fc9-4bf2-854a-3ce588cf500e"
      },
      "outputs": [
        {
          "data": {
            "text/plain": [
              "array([[25, 26, 27, 28, 29, 30],\n",
              "       [19, 20, 21, 22, 23, 24],\n",
              "       [13, 14, 15, 16, 17, 18],\n",
              "       [ 7,  8,  9, 10, 11, 12],\n",
              "       [ 1,  2,  3,  4,  5,  6]])"
            ]
          },
          "execution_count": 25,
          "metadata": {},
          "output_type": "execute_result"
        }
      ],
      "source": [
        "a[::-1,:]"
      ]
    },
    {
      "cell_type": "code",
      "execution_count": 26,
      "metadata": {
        "colab": {
          "base_uri": "https://localhost:8080/"
        },
        "id": "6enqnVQPmSI-",
        "outputId": "980f367a-b6ff-431a-f05c-e80afba71a60"
      },
      "outputs": [
        {
          "data": {
            "text/plain": [
              "array([[ 1,  2,  3,  4,  5,  6],\n",
              "       [ 7,  8,  9, 10, 11, 12],\n",
              "       [13, 14, 15, 16, 17, 18],\n",
              "       [19, 20, 21, 22, 23, 24],\n",
              "       [25, 26, 27, 28, 29, 30],\n",
              "       [ 1,  2,  3,  4,  5,  6]])"
            ]
          },
          "execution_count": 26,
          "metadata": {},
          "output_type": "execute_result"
        }
      ],
      "source": [
        "a[np.r_[:len(a),0]]"
      ]
    },
    {
      "cell_type": "code",
      "execution_count": 27,
      "metadata": {
        "colab": {
          "base_uri": "https://localhost:8080/"
        },
        "id": "ePiPu90OmSGe",
        "outputId": "7821a045-9626-4eaa-9620-2709a0a85ff9"
      },
      "outputs": [
        {
          "data": {
            "text/plain": [
              "array([[ 1,  7, 13, 19, 25],\n",
              "       [ 2,  8, 14, 20, 26],\n",
              "       [ 3,  9, 15, 21, 27],\n",
              "       [ 4, 10, 16, 22, 28],\n",
              "       [ 5, 11, 17, 23, 29],\n",
              "       [ 6, 12, 18, 24, 30]])"
            ]
          },
          "execution_count": 27,
          "metadata": {},
          "output_type": "execute_result"
        }
      ],
      "source": [
        "a.transpose()"
      ]
    },
    {
      "cell_type": "code",
      "execution_count": 28,
      "metadata": {
        "colab": {
          "base_uri": "https://localhost:8080/"
        },
        "id": "-eko858XmSD3",
        "outputId": "9ec9999c-61d2-45a9-c58f-0acaa7180dfe"
      },
      "outputs": [
        {
          "data": {
            "text/plain": [
              "array([[ 1,  7, 13, 19, 25],\n",
              "       [ 2,  8, 14, 20, 26],\n",
              "       [ 3,  9, 15, 21, 27],\n",
              "       [ 4, 10, 16, 22, 28],\n",
              "       [ 5, 11, 17, 23, 29],\n",
              "       [ 6, 12, 18, 24, 30]])"
            ]
          },
          "execution_count": 28,
          "metadata": {},
          "output_type": "execute_result"
        }
      ],
      "source": [
        "a.conj().transpose()"
      ]
    },
    {
      "cell_type": "code",
      "execution_count": 29,
      "metadata": {
        "id": "vKIB8sMEsFMC"
      },
      "outputs": [],
      "source": [
        "b = np.arange(1, 9*3 + 1, dtype=float).reshape(9, 3)\n"
      ]
    },
    {
      "cell_type": "code",
      "execution_count": 30,
      "metadata": {
        "id": "Ukc17GLyIXwP"
      },
      "outputs": [],
      "source": [
        "b = np.arange(1, 6*6 + 1, dtype=float).reshape(6, 6)"
      ]
    },
    {
      "cell_type": "code",
      "execution_count": 31,
      "metadata": {
        "colab": {
          "base_uri": "https://localhost:8080/"
        },
        "id": "ImywGrrXmSA-",
        "outputId": "cd80b2b4-837f-4ae0-bdbd-436501984fc9"
      },
      "outputs": [
        {
          "data": {
            "text/plain": [
              "array([[ 441.,  462.,  483.,  504.,  525.,  546.],\n",
              "       [1017., 1074., 1131., 1188., 1245., 1302.],\n",
              "       [1593., 1686., 1779., 1872., 1965., 2058.],\n",
              "       [2169., 2298., 2427., 2556., 2685., 2814.],\n",
              "       [2745., 2910., 3075., 3240., 3405., 3570.]])"
            ]
          },
          "execution_count": 31,
          "metadata": {},
          "output_type": "execute_result"
        }
      ],
      "source": [
        "a @ b"
      ]
    },
    {
      "cell_type": "code",
      "execution_count": 32,
      "metadata": {
        "id": "HV1ShvSCIt-8"
      },
      "outputs": [],
      "source": [
        "b = np.arange(1, 5*6 + 1, dtype=float).reshape(5, 6)"
      ]
    },
    {
      "cell_type": "code",
      "execution_count": 33,
      "metadata": {
        "colab": {
          "base_uri": "https://localhost:8080/"
        },
        "id": "ZJ5gyC-HmR-r",
        "outputId": "431c7811-96aa-4a84-fed9-56542e970f51"
      },
      "outputs": [
        {
          "data": {
            "text/plain": [
              "array([[  1.,   4.,   9.,  16.,  25.,  36.],\n",
              "       [ 49.,  64.,  81., 100., 121., 144.],\n",
              "       [169., 196., 225., 256., 289., 324.],\n",
              "       [361., 400., 441., 484., 529., 576.],\n",
              "       [625., 676., 729., 784., 841., 900.]])"
            ]
          },
          "execution_count": 33,
          "metadata": {},
          "output_type": "execute_result"
        }
      ],
      "source": [
        "a * b\n"
      ]
    },
    {
      "cell_type": "code",
      "execution_count": 34,
      "metadata": {
        "colab": {
          "base_uri": "https://localhost:8080/"
        },
        "id": "4BWae0EumR73",
        "outputId": "1608b8f5-971b-44eb-8da9-83572a20ad04"
      },
      "outputs": [
        {
          "data": {
            "text/plain": [
              "array([[1., 1., 1., 1., 1., 1.],\n",
              "       [1., 1., 1., 1., 1., 1.],\n",
              "       [1., 1., 1., 1., 1., 1.],\n",
              "       [1., 1., 1., 1., 1., 1.],\n",
              "       [1., 1., 1., 1., 1., 1.]])"
            ]
          },
          "execution_count": 34,
          "metadata": {},
          "output_type": "execute_result"
        }
      ],
      "source": [
        "a/b"
      ]
    },
    {
      "cell_type": "code",
      "execution_count": 35,
      "metadata": {
        "colab": {
          "base_uri": "https://localhost:8080/"
        },
        "id": "I33FKepkmR3H",
        "outputId": "b9d5a95f-473d-4da2-bb92-9c8428957b5d"
      },
      "outputs": [
        {
          "data": {
            "text/plain": [
              "array([[    1,     8,    27,    64,   125,   216],\n",
              "       [  343,   512,   729,  1000,  1331,  1728],\n",
              "       [ 2197,  2744,  3375,  4096,  4913,  5832],\n",
              "       [ 6859,  8000,  9261, 10648, 12167, 13824],\n",
              "       [15625, 17576, 19683, 21952, 24389, 27000]])"
            ]
          },
          "execution_count": 35,
          "metadata": {},
          "output_type": "execute_result"
        }
      ],
      "source": [
        "a**3"
      ]
    },
    {
      "cell_type": "code",
      "execution_count": 36,
      "metadata": {
        "colab": {
          "base_uri": "https://localhost:8080/"
        },
        "id": "B_lIzZTJmR0x",
        "outputId": "427bc426-b0d0-4760-cc75-df80ea3673ca"
      },
      "outputs": [
        {
          "data": {
            "text/plain": [
              "array([[ True,  True,  True,  True,  True,  True],\n",
              "       [ True,  True,  True,  True,  True,  True],\n",
              "       [ True,  True,  True,  True,  True,  True],\n",
              "       [ True,  True,  True,  True,  True,  True],\n",
              "       [ True,  True,  True,  True,  True,  True]])"
            ]
          },
          "execution_count": 36,
          "metadata": {},
          "output_type": "execute_result"
        }
      ],
      "source": [
        "(a > 0.5)"
      ]
    },
    {
      "cell_type": "code",
      "execution_count": 37,
      "metadata": {
        "colab": {
          "base_uri": "https://localhost:8080/"
        },
        "id": "_1LtE5qameoY",
        "outputId": "1aaaf0c7-ba0d-4501-806b-d943f65c4e63"
      },
      "outputs": [
        {
          "data": {
            "text/plain": [
              "(array([0, 0, 0, 0, 0, 0, 1, 1, 1, 1, 1, 1, 2, 2, 2, 2, 2, 2, 3, 3, 3, 3,\n",
              "        3, 3, 4, 4, 4, 4, 4, 4]),\n",
              " array([0, 1, 2, 3, 4, 5, 0, 1, 2, 3, 4, 5, 0, 1, 2, 3, 4, 5, 0, 1, 2, 3,\n",
              "        4, 5, 0, 1, 2, 3, 4, 5]))"
            ]
          },
          "execution_count": 37,
          "metadata": {},
          "output_type": "execute_result"
        }
      ],
      "source": [
        "np.nonzero(a > 0.5)"
      ]
    },
    {
      "cell_type": "code",
      "execution_count": 38,
      "metadata": {
        "id": "M4AgNCT6I4rx"
      },
      "outputs": [],
      "source": [
        "v = np.array([0.2, 0.7, 0.1, 0.9, 0.6, 0.3])"
      ]
    },
    {
      "cell_type": "code",
      "execution_count": 39,
      "metadata": {
        "colab": {
          "base_uri": "https://localhost:8080/"
        },
        "id": "QBiw9-xFmemW",
        "outputId": "09d661d7-dbad-431c-b999-ec9d0a43fed6"
      },
      "outputs": [
        {
          "data": {
            "text/plain": [
              "array([[ 2,  4,  5],\n",
              "       [ 8, 10, 11],\n",
              "       [14, 16, 17],\n",
              "       [20, 22, 23],\n",
              "       [26, 28, 29]])"
            ]
          },
          "execution_count": 39,
          "metadata": {},
          "output_type": "execute_result"
        }
      ],
      "source": [
        "a[:,np.nonzero(v > 0.5)[0]]"
      ]
    },
    {
      "cell_type": "code",
      "execution_count": 40,
      "metadata": {
        "colab": {
          "base_uri": "https://localhost:8080/"
        },
        "id": "dR5rTqPymekI",
        "outputId": "43b3f3cc-b354-4e86-f836-f0cde290149b"
      },
      "outputs": [
        {
          "data": {
            "text/plain": [
              "array([[ 2,  4,  5],\n",
              "       [ 8, 10, 11],\n",
              "       [14, 16, 17],\n",
              "       [20, 22, 23],\n",
              "       [26, 28, 29]])"
            ]
          },
          "execution_count": 40,
          "metadata": {},
          "output_type": "execute_result"
        }
      ],
      "source": [
        "\n",
        "a[:, v.T > 0.5]"
      ]
    },
    {
      "cell_type": "code",
      "execution_count": 41,
      "metadata": {
        "id": "KPeumho4mehf"
      },
      "outputs": [],
      "source": [
        "a[a < 0.5]=0"
      ]
    },
    {
      "cell_type": "code",
      "execution_count": 42,
      "metadata": {
        "colab": {
          "base_uri": "https://localhost:8080/"
        },
        "id": "81fB54mNmefA",
        "outputId": "51997854-b43a-471b-fbe0-661d1e192abe"
      },
      "outputs": [
        {
          "data": {
            "text/plain": [
              "array([[ 1,  2,  3,  4,  5,  6],\n",
              "       [ 7,  8,  9, 10, 11, 12],\n",
              "       [13, 14, 15, 16, 17, 18],\n",
              "       [19, 20, 21, 22, 23, 24],\n",
              "       [25, 26, 27, 28, 29, 30]])"
            ]
          },
          "execution_count": 42,
          "metadata": {},
          "output_type": "execute_result"
        }
      ],
      "source": [
        "a * (a > 0.5)"
      ]
    },
    {
      "cell_type": "code",
      "execution_count": 43,
      "metadata": {
        "id": "7AeElY9HmmCY"
      },
      "outputs": [],
      "source": [
        "a[:] = 3"
      ]
    },
    {
      "cell_type": "code",
      "execution_count": 44,
      "metadata": {
        "id": "psYkwZpsI-oU"
      },
      "outputs": [],
      "source": [
        "x = np.array([1, 2, 3, 4, 5, 6])"
      ]
    },
    {
      "cell_type": "code",
      "execution_count": 45,
      "metadata": {
        "id": "2D8dsYmYml-W"
      },
      "outputs": [],
      "source": [
        "y = x.copy()"
      ]
    },
    {
      "cell_type": "code",
      "execution_count": 46,
      "metadata": {
        "id": "DrVvXcqNml7Z"
      },
      "outputs": [],
      "source": [
        "y = x.flatten()"
      ]
    },
    {
      "cell_type": "code",
      "execution_count": 47,
      "metadata": {
        "colab": {
          "base_uri": "https://localhost:8080/"
        },
        "id": "qCVsD737ml4v",
        "outputId": "1f16fef6-7773-476b-cae8-dddd2ffc3d4e"
      },
      "outputs": [
        {
          "data": {
            "text/plain": [
              "array([ 1.,  2.,  3.,  4.,  5.,  6.,  7.,  8.,  9., 10.])"
            ]
          },
          "execution_count": 47,
          "metadata": {},
          "output_type": "execute_result"
        }
      ],
      "source": [
        "np.arange(1., 11.)"
      ]
    },
    {
      "cell_type": "code",
      "execution_count": 48,
      "metadata": {
        "colab": {
          "base_uri": "https://localhost:8080/"
        },
        "id": "68JLZyqKml2B",
        "outputId": "b47636df-b216-4a80-f4c1-92f3ff73bacf"
      },
      "outputs": [
        {
          "data": {
            "text/plain": [
              "array([0., 1., 2., 3., 4., 5., 6., 7., 8., 9.])"
            ]
          },
          "execution_count": 48,
          "metadata": {},
          "output_type": "execute_result"
        }
      ],
      "source": [
        "\n",
        "np.arange(10.)"
      ]
    },
    {
      "cell_type": "code",
      "execution_count": 49,
      "metadata": {
        "colab": {
          "base_uri": "https://localhost:8080/"
        },
        "id": "JAOFCaPTmlw4",
        "outputId": "a39750c5-1bca-4bdc-e26e-f82e13ed3ef1"
      },
      "outputs": [
        {
          "data": {
            "text/plain": [
              "array([[ 1.],\n",
              "       [ 2.],\n",
              "       [ 3.],\n",
              "       [ 4.],\n",
              "       [ 5.],\n",
              "       [ 6.],\n",
              "       [ 7.],\n",
              "       [ 8.],\n",
              "       [ 9.],\n",
              "       [10.]])"
            ]
          },
          "execution_count": 49,
          "metadata": {},
          "output_type": "execute_result"
        }
      ],
      "source": [
        "np.arange(1.,11.)[:, np.newaxis]"
      ]
    },
    {
      "cell_type": "code",
      "execution_count": 50,
      "metadata": {
        "colab": {
          "base_uri": "https://localhost:8080/"
        },
        "id": "mS1ZWhFsmx6P",
        "outputId": "6f71a4b8-14d1-4608-c6dc-7ba1d170dd17"
      },
      "outputs": [
        {
          "data": {
            "text/plain": [
              "array([[0., 0., 0., 0.],\n",
              "       [0., 0., 0., 0.],\n",
              "       [0., 0., 0., 0.]])"
            ]
          },
          "execution_count": 50,
          "metadata": {},
          "output_type": "execute_result"
        }
      ],
      "source": [
        "np.zeros((3, 4))"
      ]
    },
    {
      "cell_type": "code",
      "execution_count": 51,
      "metadata": {
        "colab": {
          "base_uri": "https://localhost:8080/"
        },
        "id": "BHuLusw1mx3v",
        "outputId": "2f9b7d68-71b3-4431-9bc6-ae754751163b"
      },
      "outputs": [
        {
          "data": {
            "text/plain": [
              "array([[[0., 0., 0., 0., 0.],\n",
              "        [0., 0., 0., 0., 0.],\n",
              "        [0., 0., 0., 0., 0.],\n",
              "        [0., 0., 0., 0., 0.]],\n",
              "\n",
              "       [[0., 0., 0., 0., 0.],\n",
              "        [0., 0., 0., 0., 0.],\n",
              "        [0., 0., 0., 0., 0.],\n",
              "        [0., 0., 0., 0., 0.]],\n",
              "\n",
              "       [[0., 0., 0., 0., 0.],\n",
              "        [0., 0., 0., 0., 0.],\n",
              "        [0., 0., 0., 0., 0.],\n",
              "        [0., 0., 0., 0., 0.]]])"
            ]
          },
          "execution_count": 51,
          "metadata": {},
          "output_type": "execute_result"
        }
      ],
      "source": [
        "np.zeros((3, 4, 5))"
      ]
    },
    {
      "cell_type": "code",
      "execution_count": 52,
      "metadata": {
        "colab": {
          "base_uri": "https://localhost:8080/"
        },
        "id": "LEEVvC4mmx02",
        "outputId": "1e64b7af-cfbc-4073-f89b-8f34567a6247"
      },
      "outputs": [
        {
          "data": {
            "text/plain": [
              "array([[1., 1., 1., 1.],\n",
              "       [1., 1., 1., 1.],\n",
              "       [1., 1., 1., 1.]])"
            ]
          },
          "execution_count": 52,
          "metadata": {},
          "output_type": "execute_result"
        }
      ],
      "source": [
        "np.ones((3, 4))"
      ]
    },
    {
      "cell_type": "code",
      "execution_count": 53,
      "metadata": {
        "colab": {
          "base_uri": "https://localhost:8080/"
        },
        "id": "H-fCIFqVmxx4",
        "outputId": "87ec3c13-99c7-4457-dd42-30288ec774d5"
      },
      "outputs": [
        {
          "data": {
            "text/plain": [
              "array([[1., 0., 0.],\n",
              "       [0., 1., 0.],\n",
              "       [0., 0., 1.]])"
            ]
          },
          "execution_count": 53,
          "metadata": {},
          "output_type": "execute_result"
        }
      ],
      "source": [
        "np.eye(3)"
      ]
    },
    {
      "cell_type": "code",
      "execution_count": 54,
      "metadata": {
        "colab": {
          "base_uri": "https://localhost:8080/"
        },
        "id": "VV0o4BR7mxvY",
        "outputId": "195b4e6f-7a68-4496-8ed9-f02373e1fe27"
      },
      "outputs": [
        {
          "data": {
            "text/plain": [
              "array([3, 3, 3, 3, 3])"
            ]
          },
          "execution_count": 54,
          "metadata": {},
          "output_type": "execute_result"
        }
      ],
      "source": [
        "np.diag(a)"
      ]
    },
    {
      "cell_type": "code",
      "execution_count": 55,
      "metadata": {
        "colab": {
          "base_uri": "https://localhost:8080/"
        },
        "id": "8lOVokGVmxsX",
        "outputId": "322722dc-d6ad-46da-800c-f8c4493e56a8"
      },
      "outputs": [
        {
          "data": {
            "text/plain": [
              "array([[0.2, 0. , 0. , 0. , 0. , 0. ],\n",
              "       [0. , 0.7, 0. , 0. , 0. , 0. ],\n",
              "       [0. , 0. , 0.1, 0. , 0. , 0. ],\n",
              "       [0. , 0. , 0. , 0.9, 0. , 0. ],\n",
              "       [0. , 0. , 0. , 0. , 0.6, 0. ],\n",
              "       [0. , 0. , 0. , 0. , 0. , 0.3]])"
            ]
          },
          "execution_count": 55,
          "metadata": {},
          "output_type": "execute_result"
        }
      ],
      "source": [
        "np.diag(v, 0)"
      ]
    },
    {
      "cell_type": "code",
      "execution_count": 56,
      "metadata": {
        "colab": {
          "base_uri": "https://localhost:8080/"
        },
        "id": "zSVB0obimxnP",
        "outputId": "9e94e997-cc52-45f4-ad9b-c3f5dda44568"
      },
      "outputs": [
        {
          "data": {
            "text/plain": [
              "array([[0.77395605, 0.43887844, 0.85859792, 0.69736803],\n",
              "       [0.09417735, 0.97562235, 0.7611397 , 0.78606431],\n",
              "       [0.12811363, 0.45038594, 0.37079802, 0.92676499]])"
            ]
          },
          "execution_count": 56,
          "metadata": {},
          "output_type": "execute_result"
        }
      ],
      "source": [
        "from numpy.random import default_rng\n",
        "rng = default_rng(42)\n",
        "rng.random((3, 4))"
      ]
    },
    {
      "cell_type": "code",
      "execution_count": 57,
      "metadata": {
        "colab": {
          "base_uri": "https://localhost:8080/"
        },
        "id": "azOJVTnom6J3",
        "outputId": "3bf621e3-e9b3-4461-f4ec-e2e7729212d2"
      },
      "outputs": [
        {
          "data": {
            "text/plain": [
              "array([1.        , 1.66666667, 2.33333333, 3.        ])"
            ]
          },
          "execution_count": 57,
          "metadata": {},
          "output_type": "execute_result"
        }
      ],
      "source": [
        "np.linspace(1,3,4)"
      ]
    },
    {
      "cell_type": "code",
      "execution_count": 58,
      "metadata": {
        "colab": {
          "base_uri": "https://localhost:8080/"
        },
        "id": "tM5lXzAdm6HG",
        "outputId": "6ec8201c-a6ba-49d4-a5b7-44dc9ec89616"
      },
      "outputs": [
        {
          "data": {
            "text/plain": [
              "array([[[0., 0., 0., 0., 0., 0.],\n",
              "        [1., 1., 1., 1., 1., 1.],\n",
              "        [2., 2., 2., 2., 2., 2.],\n",
              "        [3., 3., 3., 3., 3., 3.],\n",
              "        [4., 4., 4., 4., 4., 4.],\n",
              "        [5., 5., 5., 5., 5., 5.],\n",
              "        [6., 6., 6., 6., 6., 6.],\n",
              "        [7., 7., 7., 7., 7., 7.],\n",
              "        [8., 8., 8., 8., 8., 8.]],\n",
              "\n",
              "       [[0., 1., 2., 3., 4., 5.],\n",
              "        [0., 1., 2., 3., 4., 5.],\n",
              "        [0., 1., 2., 3., 4., 5.],\n",
              "        [0., 1., 2., 3., 4., 5.],\n",
              "        [0., 1., 2., 3., 4., 5.],\n",
              "        [0., 1., 2., 3., 4., 5.],\n",
              "        [0., 1., 2., 3., 4., 5.],\n",
              "        [0., 1., 2., 3., 4., 5.],\n",
              "        [0., 1., 2., 3., 4., 5.]]])"
            ]
          },
          "execution_count": 58,
          "metadata": {},
          "output_type": "execute_result"
        }
      ],
      "source": [
        "np.mgrid[0:9.,0:6.]"
      ]
    },
    {
      "cell_type": "code",
      "execution_count": 59,
      "metadata": {
        "colab": {
          "base_uri": "https://localhost:8080/"
        },
        "id": "071u5MVYm56e",
        "outputId": "d4829191-cbf2-4f15-92a8-5fb88e74dc0b"
      },
      "outputs": [
        {
          "data": {
            "text/plain": [
              "[array([[0.],\n",
              "        [1.],\n",
              "        [2.],\n",
              "        [3.],\n",
              "        [4.],\n",
              "        [5.],\n",
              "        [6.],\n",
              "        [7.],\n",
              "        [8.]]),\n",
              " array([[0., 1., 2., 3., 4., 5.]])]"
            ]
          },
          "execution_count": 59,
          "metadata": {},
          "output_type": "execute_result"
        }
      ],
      "source": [
        "np.ogrid[0:9.,0:6.]"
      ]
    },
    {
      "cell_type": "code",
      "execution_count": 60,
      "metadata": {
        "colab": {
          "base_uri": "https://localhost:8080/"
        },
        "id": "ppyVyIvPm54Y",
        "outputId": "195d7940-a59a-4682-e7d6-8770370c1839"
      },
      "outputs": [
        {
          "data": {
            "text/plain": [
              "[array([[1, 2, 4],\n",
              "        [1, 2, 4],\n",
              "        [1, 2, 4]]),\n",
              " array([[2, 2, 2],\n",
              "        [4, 4, 4],\n",
              "        [5, 5, 5]])]"
            ]
          },
          "execution_count": 60,
          "metadata": {},
          "output_type": "execute_result"
        }
      ],
      "source": [
        "np.meshgrid([1,2,4],[2,4,5])"
      ]
    },
    {
      "cell_type": "code",
      "execution_count": 61,
      "metadata": {
        "colab": {
          "base_uri": "https://localhost:8080/"
        },
        "id": "y-6Qsq3mm51x",
        "outputId": "9050efc9-babc-45e0-8fce-58d62ce5ece7"
      },
      "outputs": [
        {
          "data": {
            "text/plain": [
              "(array([[1],\n",
              "        [2],\n",
              "        [4]]),\n",
              " array([[2, 4, 5]]))"
            ]
          },
          "execution_count": 61,
          "metadata": {},
          "output_type": "execute_result"
        }
      ],
      "source": [
        "np.ix_([1,2,4],[2,4,5])"
      ]
    },
    {
      "cell_type": "code",
      "execution_count": 62,
      "metadata": {
        "colab": {
          "base_uri": "https://localhost:8080/"
        },
        "id": "1bA-q1ZFm5zn",
        "outputId": "26761817-23d2-4dc8-d91e-e67056629dcc"
      },
      "outputs": [
        {
          "data": {
            "text/plain": [
              "array([[ 3.,  3.,  3.,  3.,  3.,  3.,  1.,  2.,  3.,  4.,  5.,  6.],\n",
              "       [ 3.,  3.,  3.,  3.,  3.,  3.,  7.,  8.,  9., 10., 11., 12.],\n",
              "       [ 3.,  3.,  3.,  3.,  3.,  3., 13., 14., 15., 16., 17., 18.],\n",
              "       [ 3.,  3.,  3.,  3.,  3.,  3., 19., 20., 21., 22., 23., 24.],\n",
              "       [ 3.,  3.,  3.,  3.,  3.,  3., 25., 26., 27., 28., 29., 30.]])"
            ]
          },
          "execution_count": 62,
          "metadata": {},
          "output_type": "execute_result"
        }
      ],
      "source": [
        "np.concatenate((a,b),1)"
      ]
    },
    {
      "cell_type": "code",
      "execution_count": 63,
      "metadata": {
        "colab": {
          "base_uri": "https://localhost:8080/"
        },
        "id": "uOgJc0vNm5v5",
        "outputId": "3523a1f9-b4cb-4592-eff1-b8816075b4ca"
      },
      "outputs": [
        {
          "data": {
            "text/plain": [
              "array([[ 3.,  3.,  3.,  3.,  3.,  3.,  1.,  2.,  3.,  4.,  5.,  6.],\n",
              "       [ 3.,  3.,  3.,  3.,  3.,  3.,  7.,  8.,  9., 10., 11., 12.],\n",
              "       [ 3.,  3.,  3.,  3.,  3.,  3., 13., 14., 15., 16., 17., 18.],\n",
              "       [ 3.,  3.,  3.,  3.,  3.,  3., 19., 20., 21., 22., 23., 24.],\n",
              "       [ 3.,  3.,  3.,  3.,  3.,  3., 25., 26., 27., 28., 29., 30.]])"
            ]
          },
          "execution_count": 63,
          "metadata": {},
          "output_type": "execute_result"
        }
      ],
      "source": [
        "np.hstack((a,b))"
      ]
    },
    {
      "cell_type": "code",
      "execution_count": 64,
      "metadata": {
        "colab": {
          "base_uri": "https://localhost:8080/"
        },
        "id": "t9vyrN-Wm5tJ",
        "outputId": "77859383-6eb5-4338-eb7a-f03b6374bf67"
      },
      "outputs": [
        {
          "data": {
            "text/plain": [
              "3"
            ]
          },
          "execution_count": 64,
          "metadata": {},
          "output_type": "execute_result"
        }
      ],
      "source": [
        "a.max()"
      ]
    },
    {
      "cell_type": "code",
      "execution_count": 65,
      "metadata": {
        "colab": {
          "base_uri": "https://localhost:8080/"
        },
        "id": "QfMRodDdnJQP",
        "outputId": "467d4158-a3c3-4b88-8f81-4d4f24cf428c"
      },
      "outputs": [
        {
          "data": {
            "text/plain": [
              "3"
            ]
          },
          "execution_count": 65,
          "metadata": {},
          "output_type": "execute_result"
        }
      ],
      "source": [
        "np.nanmax(a)"
      ]
    },
    {
      "cell_type": "code",
      "execution_count": 66,
      "metadata": {
        "colab": {
          "base_uri": "https://localhost:8080/"
        },
        "id": "vJjtNxdDnJOH",
        "outputId": "d154cccb-380b-47a6-a6d0-f2292066ea13"
      },
      "outputs": [
        {
          "data": {
            "text/plain": [
              "array([3, 3, 3, 3, 3, 3])"
            ]
          },
          "execution_count": 66,
          "metadata": {},
          "output_type": "execute_result"
        }
      ],
      "source": [
        "a.max(0)"
      ]
    },
    {
      "cell_type": "code",
      "execution_count": 67,
      "metadata": {
        "colab": {
          "base_uri": "https://localhost:8080/"
        },
        "id": "--NfLeh_nJMA",
        "outputId": "0c29ab9f-efbe-4c4e-93c8-619a14c4e43c"
      },
      "outputs": [
        {
          "data": {
            "text/plain": [
              "array([3, 3, 3, 3, 3])"
            ]
          },
          "execution_count": 67,
          "metadata": {},
          "output_type": "execute_result"
        }
      ],
      "source": [
        "a.max(1)"
      ]
    },
    {
      "cell_type": "code",
      "execution_count": 68,
      "metadata": {
        "colab": {
          "base_uri": "https://localhost:8080/"
        },
        "id": "SKKEL4FynJJ3",
        "outputId": "c6b6ab04-d36a-4197-8098-ce272ee6cc73"
      },
      "outputs": [
        {
          "data": {
            "text/plain": [
              "array([[ 3.,  3.,  3.,  4.,  5.,  6.],\n",
              "       [ 7.,  8.,  9., 10., 11., 12.],\n",
              "       [13., 14., 15., 16., 17., 18.],\n",
              "       [19., 20., 21., 22., 23., 24.],\n",
              "       [25., 26., 27., 28., 29., 30.]])"
            ]
          },
          "execution_count": 68,
          "metadata": {},
          "output_type": "execute_result"
        }
      ],
      "source": [
        "np.maximum(a, b)"
      ]
    },
    {
      "cell_type": "code",
      "execution_count": 69,
      "metadata": {
        "colab": {
          "base_uri": "https://localhost:8080/"
        },
        "id": "vKd_-F3_nJHP",
        "outputId": "79845f5b-7114-4bcb-a99d-64801365bff7"
      },
      "outputs": [
        {
          "data": {
            "text/plain": [
              "1.3416407864998738"
            ]
          },
          "execution_count": 69,
          "metadata": {},
          "output_type": "execute_result"
        }
      ],
      "source": [
        "np.sqrt(v @ v)"
      ]
    },
    {
      "cell_type": "code",
      "execution_count": 70,
      "metadata": {
        "colab": {
          "base_uri": "https://localhost:8080/"
        },
        "id": "qSPOYIOlnJCn",
        "outputId": "1a282cd4-466d-40ac-8551-b331634a02ff"
      },
      "outputs": [
        {
          "data": {
            "text/plain": [
              "array([[ True,  True,  True,  True,  True,  True],\n",
              "       [ True,  True,  True,  True,  True,  True],\n",
              "       [ True,  True,  True,  True,  True,  True],\n",
              "       [ True,  True,  True,  True,  True,  True],\n",
              "       [ True,  True,  True,  True,  True,  True]])"
            ]
          },
          "execution_count": 70,
          "metadata": {},
          "output_type": "execute_result"
        }
      ],
      "source": [
        "np.logical_and(a,b)"
      ]
    },
    {
      "cell_type": "code",
      "execution_count": 71,
      "metadata": {
        "colab": {
          "base_uri": "https://localhost:8080/"
        },
        "id": "OTxfP5__oeP_",
        "outputId": "23bed271-0022-4586-ca87-a0982962577b"
      },
      "outputs": [
        {
          "data": {
            "text/plain": [
              "array([[ True,  True,  True,  True,  True,  True],\n",
              "       [ True,  True,  True,  True,  True,  True],\n",
              "       [ True,  True,  True,  True,  True,  True],\n",
              "       [ True,  True,  True,  True,  True,  True],\n",
              "       [ True,  True,  True,  True,  True,  True]])"
            ]
          },
          "execution_count": 71,
          "metadata": {},
          "output_type": "execute_result"
        }
      ],
      "source": [
        "np.logical_or(a,b)"
      ]
    },
    {
      "cell_type": "code",
      "execution_count": 72,
      "metadata": {
        "id": "7SQGaVWOJWpQ"
      },
      "outputs": [],
      "source": [
        "a = np.arange(1, 5*6 + 1).reshape(5, 6)\n",
        "b = np.arange(1, 5*6 + 1).reshape(5, 6)"
      ]
    },
    {
      "cell_type": "code",
      "execution_count": 73,
      "metadata": {
        "colab": {
          "base_uri": "https://localhost:8080/"
        },
        "id": "FJ4ab5QJoeNQ",
        "outputId": "e3714d7a-c445-4eeb-bc60-f819fa7ee412"
      },
      "outputs": [
        {
          "data": {
            "text/plain": [
              "array([[ 1,  2,  3,  4,  5,  6],\n",
              "       [ 7,  8,  9, 10, 11, 12],\n",
              "       [13, 14, 15, 16, 17, 18],\n",
              "       [19, 20, 21, 22, 23, 24],\n",
              "       [25, 26, 27, 28, 29, 30]])"
            ]
          },
          "execution_count": 73,
          "metadata": {},
          "output_type": "execute_result"
        }
      ],
      "source": [
        "a & b"
      ]
    },
    {
      "cell_type": "code",
      "execution_count": 74,
      "metadata": {
        "colab": {
          "base_uri": "https://localhost:8080/"
        },
        "id": "4Tz0KOLxoeKA",
        "outputId": "39f5f4fd-551b-4c16-fcc2-808d10634e06"
      },
      "outputs": [
        {
          "data": {
            "text/plain": [
              "array([[ 1,  2,  3,  4,  5,  6],\n",
              "       [ 7,  8,  9, 10, 11, 12],\n",
              "       [13, 14, 15, 16, 17, 18],\n",
              "       [19, 20, 21, 22, 23, 24],\n",
              "       [25, 26, 27, 28, 29, 30]])"
            ]
          },
          "execution_count": 74,
          "metadata": {},
          "output_type": "execute_result"
        }
      ],
      "source": [
        "a | b"
      ]
    },
    {
      "cell_type": "code",
      "execution_count": 75,
      "metadata": {
        "id": "hCbh_6SINcYU"
      },
      "outputs": [],
      "source": [
        "a = np.array([[ 1,  2,  3],\n",
        "       [ 7,  8,  9],\n",
        "       [13, 14, 15]])"
      ]
    },
    {
      "cell_type": "code",
      "execution_count": 76,
      "metadata": {
        "colab": {
          "base_uri": "https://localhost:8080/"
        },
        "id": "1Cps5l4coeHR",
        "outputId": "9f2d2e47-2836-4485-96ec-fb4af3cd7ef3"
      },
      "outputs": [
        {
          "data": {
            "text/plain": [
              "array([[-4.83857811e+14,  9.67715622e+14, -4.83857811e+14],\n",
              "       [ 9.67715622e+14, -1.93543124e+15,  9.67715622e+14],\n",
              "       [-4.83857811e+14,  9.67715622e+14, -4.83857811e+14]])"
            ]
          },
          "execution_count": 76,
          "metadata": {},
          "output_type": "execute_result"
        }
      ],
      "source": [
        "np.linalg.inv(a)"
      ]
    },
    {
      "cell_type": "code",
      "execution_count": 77,
      "metadata": {
        "colab": {
          "base_uri": "https://localhost:8080/"
        },
        "id": "Wmwiabo9oeEP",
        "outputId": "75448d6a-6da8-436f-9838-82d99f5d1f67"
      },
      "outputs": [
        {
          "data": {
            "text/plain": [
              "array([[-5.27777778e-01, -1.66666667e-01,  1.94444444e-01],\n",
              "       [-2.77777778e-02,  1.37868022e-16,  2.77777778e-02],\n",
              "       [ 4.72222222e-01,  1.66666667e-01, -1.38888889e-01]])"
            ]
          },
          "execution_count": 77,
          "metadata": {},
          "output_type": "execute_result"
        }
      ],
      "source": [
        "np.linalg.pinv(a)"
      ]
    },
    {
      "cell_type": "code",
      "execution_count": 78,
      "metadata": {
        "colab": {
          "base_uri": "https://localhost:8080/"
        },
        "id": "jYhe4AGeoeBQ",
        "outputId": "0435ddec-7f06-4662-f273-f57f7fa2122d"
      },
      "outputs": [
        {
          "data": {
            "text/plain": [
              "2"
            ]
          },
          "execution_count": 78,
          "metadata": {},
          "output_type": "execute_result"
        }
      ],
      "source": [
        "np.linalg.matrix_rank(a)"
      ]
    },
    {
      "cell_type": "code",
      "execution_count": 107,
      "metadata": {
        "id": "sHdz8lZXN97U"
      },
      "outputs": [],
      "source": [
        "a = np.array([[ 1,  2,  3],\n",
        "       [ 7,  8,  9],\n",
        "       [13, 14, 15]])\n",
        "\n",
        "b = np.array([[ 1,  4,  3],\n",
        "       [ 7,  3,  9],\n",
        "       [13, 32, 15]])"
      ]
    },
    {
      "cell_type": "code",
      "execution_count": 80,
      "metadata": {
        "colab": {
          "base_uri": "https://localhost:8080/"
        },
        "id": "Ns8KSTkLod7R",
        "outputId": "622e33d5-1c6a-4910-dcb1-f3b64396a23e"
      },
      "outputs": [
        {
          "data": {
            "text/plain": [
              "array([[ 1.40495868e-01, -1.45157343e+16, -1.00000000e+00],\n",
              "       [ 1.71900826e+00,  2.90314687e+16,  2.00000000e+00],\n",
              "       [-8.59504132e-01, -1.45157343e+16,  0.00000000e+00]])"
            ]
          },
          "execution_count": 80,
          "metadata": {},
          "output_type": "execute_result"
        }
      ],
      "source": [
        "np.linalg.solve(a, b)"
      ]
    },
    {
      "cell_type": "code",
      "execution_count": 81,
      "metadata": {
        "colab": {
          "base_uri": "https://localhost:8080/"
        },
        "id": "6oKMrSFNooqp",
        "outputId": "3f083049-a55c-4e44-fc62-81370502b41a"
      },
      "outputs": [
        {
          "name": "stderr",
          "output_type": "stream",
          "text": [
            "/var/folders/5b/0prq94p93hd161v6371vlhpr0000gn/T/ipykernel_72285/210800635.py:1: FutureWarning: `rcond` parameter will change to the default of machine precision times ``max(M, N)`` where M and N are the input matrix dimensions.\n",
            "To use the future default and silence this warning we advise to pass `rcond=None`, to keep using the old, explicitly pass `rcond=-1`.\n",
            "  np.linalg.lstsq(a, b)\n"
          ]
        },
        {
          "data": {
            "text/plain": [
              "(array([[ 0.83333333,  3.61111111, -0.16666667],\n",
              "        [ 0.33333333,  0.77777778,  0.33333333],\n",
              "        [-0.16666667, -2.05555556,  0.83333333]]),\n",
              " array([], dtype=float64),\n",
              " 2,\n",
              " array([2.82200748e+01, 1.27568762e+00, 5.40556259e-16]))"
            ]
          },
          "execution_count": 81,
          "metadata": {},
          "output_type": "execute_result"
        }
      ],
      "source": [
        "np.linalg.lstsq(a, b)"
      ]
    },
    {
      "cell_type": "code",
      "execution_count": 82,
      "metadata": {
        "id": "ntjRR1XEosyw"
      },
      "outputs": [],
      "source": [
        "U, S, Vh = np.linalg.svd(a); V = Vh.T"
      ]
    },
    {
      "cell_type": "code",
      "execution_count": 114,
      "metadata": {},
      "outputs": [],
      "source": [
        "a = np.array([[2., -1., 0.],\n",
        "              [-1., 2., -1.],\n",
        "              [0., -1., 2.]], dtype=float)"
      ]
    },
    {
      "cell_type": "code",
      "execution_count": 116,
      "metadata": {
        "colab": {
          "base_uri": "https://localhost:8080/"
        },
        "id": "4h-l1U7Eoswr",
        "outputId": "c01971ff-9c6f-4262-b58d-1a3573e6e3ac"
      },
      "outputs": [
        {
          "data": {
            "text/plain": [
              "array([[ 1.41421356,  0.        ,  0.        ],\n",
              "       [-0.70710678,  1.22474487,  0.        ],\n",
              "       [ 0.        , -0.81649658,  1.15470054]])"
            ]
          },
          "execution_count": 116,
          "metadata": {},
          "output_type": "execute_result"
        }
      ],
      "source": [
        "np.linalg.cholesky(a)"
      ]
    },
    {
      "cell_type": "code",
      "execution_count": 120,
      "metadata": {},
      "outputs": [],
      "source": [
        "a = np.array([[ 1,  2,  3],\n",
        "       [ 7,  8,  9],\n",
        "       [13, 14, 15]])\n",
        "\n",
        "b = np.array([[ 1,  4,  3],\n",
        "       [ 7,  3,  9],\n",
        "       [13, 32, 15]])"
      ]
    },
    {
      "cell_type": "code",
      "execution_count": 121,
      "metadata": {
        "id": "6t5PvYW1osrY"
      },
      "outputs": [],
      "source": [
        "D,V = np.linalg.eig(a)"
      ]
    },
    {
      "cell_type": "code",
      "execution_count": 129,
      "metadata": {
        "colab": {
          "base_uri": "https://localhost:8080/",
          "height": 141
        },
        "id": "f0AN-3Tiot0b",
        "outputId": "c4d00fd6-d549-4756-abc8-ee3ab753e58d"
      },
      "outputs": [],
      "source": [
        "D,V = np.linalg.eig(a)"
      ]
    },
    {
      "cell_type": "code",
      "execution_count": 130,
      "metadata": {
        "colab": {
          "base_uri": "https://localhost:8080/",
          "height": 263
        },
        "id": "uklQmJhbotwR",
        "outputId": "6b60451e-652a-45ab-b721-5b1691218e76"
      },
      "outputs": [
        {
          "name": "stderr",
          "output_type": "stream",
          "text": [
            "/Users/rahat/Downloads/.conda/lib/python3.11/site-packages/scipy/sparse/linalg/_eigen/arpack/arpack.py:1272: RuntimeWarning: k >= N - 1 for N * N square matrix. Attempting to use scipy.linalg.eig instead.\n",
            "  warnings.warn(\"k >= N - 1 for N * N square matrix. \"\n"
          ]
        }
      ],
      "source": [
        "D,V = eigs(a, k=3)"
      ]
    },
    {
      "cell_type": "code",
      "execution_count": 131,
      "metadata": {
        "id": "DP8H6awIotta"
      },
      "outputs": [],
      "source": [
        "Q,R = np.linalg.qr(a)"
      ]
    },
    {
      "cell_type": "code",
      "execution_count": 132,
      "metadata": {
        "colab": {
          "base_uri": "https://localhost:8080/"
        },
        "id": "pEN6_oDHo2Mr",
        "outputId": "1f185482-c17a-4b5d-8fb3-17d7679c87c6"
      },
      "outputs": [
        {
          "data": {
            "text/plain": [
              "array([[ 6. +0.j       , -1.5+0.8660254j, -1.5-0.8660254j],\n",
              "       [24. +0.j       , -1.5+0.8660254j, -1.5-0.8660254j],\n",
              "       [42. +0.j       , -1.5+0.8660254j, -1.5-0.8660254j]])"
            ]
          },
          "execution_count": 132,
          "metadata": {},
          "output_type": "execute_result"
        }
      ],
      "source": [
        "np.fft.fft(a)"
      ]
    },
    {
      "cell_type": "code",
      "execution_count": 133,
      "metadata": {
        "colab": {
          "base_uri": "https://localhost:8080/"
        },
        "id": "dNs2PLYuo2Gg",
        "outputId": "2f488dfb-da2b-44dc-b467-d9d69b201d6f"
      },
      "outputs": [
        {
          "data": {
            "text/plain": [
              "array([[ 2. +0.j        , -0.5-0.28867513j, -0.5+0.28867513j],\n",
              "       [ 8. +0.j        , -0.5-0.28867513j, -0.5+0.28867513j],\n",
              "       [14. +0.j        , -0.5-0.28867513j, -0.5+0.28867513j]])"
            ]
          },
          "execution_count": 133,
          "metadata": {},
          "output_type": "execute_result"
        }
      ],
      "source": [
        "np.fft.ifft(a)"
      ]
    },
    {
      "cell_type": "code",
      "execution_count": 134,
      "metadata": {
        "colab": {
          "base_uri": "https://localhost:8080/"
        },
        "id": "cf9zqL25o2BA",
        "outputId": "c487f43e-0e3a-478d-9dd6-e51d3e6fe53a"
      },
      "outputs": [
        {
          "data": {
            "text/plain": [
              "array([[ 1,  2,  3],\n",
              "       [ 7,  8,  9],\n",
              "       [13, 14, 15]])"
            ]
          },
          "execution_count": 134,
          "metadata": {},
          "output_type": "execute_result"
        }
      ],
      "source": [
        "np.sort(a)"
      ]
    },
    {
      "cell_type": "code",
      "execution_count": 135,
      "metadata": {
        "colab": {
          "base_uri": "https://localhost:8080/"
        },
        "id": "IW3RvBuBo1-L",
        "outputId": "bd0e0d26-5106-464f-8268-21784b7d0e16"
      },
      "outputs": [
        {
          "data": {
            "text/plain": [
              "array([[ 1,  2,  3],\n",
              "       [ 7,  8,  9],\n",
              "       [13, 14, 15]])"
            ]
          },
          "execution_count": 135,
          "metadata": {},
          "output_type": "execute_result"
        }
      ],
      "source": [
        "np.sort(a, axis=1)"
      ]
    },
    {
      "cell_type": "code",
      "execution_count": 136,
      "metadata": {
        "colab": {
          "base_uri": "https://localhost:8080/"
        },
        "id": "Tj6oGaGko-34",
        "outputId": "bf722db4-b41d-4961-8452-b647226126a6"
      },
      "outputs": [
        {
          "data": {
            "text/plain": [
              "array([0, 1, 2])"
            ]
          },
          "execution_count": 136,
          "metadata": {},
          "output_type": "execute_result"
        }
      ],
      "source": [
        "I = np.argsort(a[:, 0]); b = a[I,:]\n",
        "I"
      ]
    },
    {
      "cell_type": "code",
      "execution_count": 137,
      "metadata": {},
      "outputs": [],
      "source": [
        "Z = np.array([\n",
        "    [1.0,  0.2, -1.0],\n",
        "    [1.0,  1.3,  0.5],\n",
        "    [1.0, -0.7,  2.2],\n",
        "    [1.0,  0.0, -0.3],\n",
        "    [1.0,  2.0,  1.0],\n",
        "    [1.0, -1.5,  0.7]\n",
        "], dtype=float)\n",
        "\n",
        "y = np.array([0.5, 2.1, -1.0, 0.2, 3.3, -0.7], dtype=float)"
      ]
    },
    {
      "cell_type": "code",
      "execution_count": 138,
      "metadata": {
        "colab": {
          "base_uri": "https://localhost:8080/",
          "height": 141
        },
        "id": "N4r4_b_no-1Q",
        "outputId": "5a9a766b-f352-4f59-a6ce-9d27b8099d39"
      },
      "outputs": [
        {
          "name": "stderr",
          "output_type": "stream",
          "text": [
            "/var/folders/5b/0prq94p93hd161v6371vlhpr0000gn/T/ipykernel_72285/2128282857.py:1: FutureWarning: `rcond` parameter will change to the default of machine precision times ``max(M, N)`` where M and N are the input matrix dimensions.\n",
            "To use the future default and silence this warning we advise to pass `rcond=None`, to keep using the old, explicitly pass `rcond=-1`.\n",
            "  x = np.linalg.lstsq(Z, y)\n"
          ]
        },
        {
          "data": {
            "text/plain": [
              "(array([ 0.47707669,  1.24628906, -0.02665675]),\n",
              " array([1.07667327]),\n",
              " 3,\n",
              " array([3.21288691, 2.90537021, 1.83743888]))"
            ]
          },
          "execution_count": 138,
          "metadata": {},
          "output_type": "execute_result"
        }
      ],
      "source": [
        "x = np.linalg.lstsq(Z, y)\n",
        "x"
      ]
    },
    {
      "cell_type": "code",
      "execution_count": 139,
      "metadata": {
        "colab": {
          "base_uri": "https://localhost:8080/",
          "height": 263
        },
        "id": "mbsgKGQ5o-x4",
        "outputId": "8b7b2145-32b6-498d-e5c7-c67475cf31e7"
      },
      "outputs": [
        {
          "data": {
            "text/plain": [
              "array([21.1931499 , 11.97593592,  2.16424751])"
            ]
          },
          "execution_count": 139,
          "metadata": {},
          "output_type": "execute_result"
        }
      ],
      "source": [
        "q = 3\n",
        "x = np.array([30, 27, 12, 15, 1, 3, 6, 9, 3], dtype=int)\n",
        "signal.resample(x, int(np.ceil(len(x)/q)))"
      ]
    },
    {
      "cell_type": "code",
      "execution_count": 140,
      "metadata": {
        "colab": {
          "base_uri": "https://localhost:8080/"
        },
        "id": "op0LGwajo-sI",
        "outputId": "0d96f07c-f962-49ac-c63c-1672cddbc2d6"
      },
      "outputs": [
        {
          "data": {
            "text/plain": [
              "array([ 1,  2,  3,  7,  8,  9, 13, 14, 15])"
            ]
          },
          "execution_count": 140,
          "metadata": {},
          "output_type": "execute_result"
        }
      ],
      "source": [
        "np.unique(a)"
      ]
    },
    {
      "cell_type": "code",
      "execution_count": 141,
      "metadata": {
        "colab": {
          "base_uri": "https://localhost:8080/"
        },
        "id": "QPemJqQzo-oq",
        "outputId": "d6441eb0-2271-4229-c1a2-ce1989b1561a"
      },
      "outputs": [
        {
          "data": {
            "text/plain": [
              "array([[ 1,  2,  3],\n",
              "       [ 7,  8,  9],\n",
              "       [13, 14, 15]])"
            ]
          },
          "execution_count": 141,
          "metadata": {},
          "output_type": "execute_result"
        }
      ],
      "source": [
        "a.squeeze()"
      ]
    },
    {
      "cell_type": "code",
      "execution_count": null,
      "metadata": {
        "id": "efAePSKao-ly"
      },
      "outputs": [],
      "source": []
    },
    {
      "cell_type": "markdown",
      "metadata": {},
      "source": [
        "Plotting"
      ]
    },
    {
      "cell_type": "code",
      "execution_count": 102,
      "metadata": {
        "colab": {
          "base_uri": "https://localhost:8080/",
          "height": 435
        },
        "id": "L2pQY0Boo-g4",
        "outputId": "e80ec312-941e-4b3c-c818-ef576dcf6281"
      },
      "outputs": [
        {
          "data": {
            "image/png": "[encoded data removed]",
            "text/plain": [
              "<Figure size 640x480 with 1 Axes>"
            ]
          },
          "metadata": {},
          "output_type": "display_data"
        }
      ],
      "source": [
        "import matplotlib.pyplot as plt\n",
        "plt.plot([1,2,3,4], [1,2,7,14])\n",
        "plt.axis([0, 6, 0, 20])\n",
        "plt.show()"
      ]
    },
    {
      "cell_type": "code",
      "execution_count": 103,
      "metadata": {
        "colab": {
          "base_uri": "https://localhost:8080/",
          "height": 435
        },
        "id": "RB5CgXouo-d8",
        "outputId": "834b6cff-31ed-4ad7-d009-9af0ea6e57a7"
      },
      "outputs": [
        {
          "data": {
            "image/png": "[encoded data removed]",
            "text/plain": [
              "<Figure size 640x480 with 1 Axes>"
            ]
          },
          "metadata": {},
          "output_type": "display_data"
        }
      ],
      "source": [
        "x = np.linspace(-5, 5, 300)\n",
        "y = x**2\n",
        "\n",
        "plt.plot(x, y)\n",
        "plt.xlim(-6, 6)\n",
        "plt.ylim(0, 30)\n",
        "plt.grid(True)\n",
        "plt.show()\n"
      ]
    },
    {
      "cell_type": "code",
      "execution_count": null,
      "metadata": {
        "id": "mHdiaJ3sElFr"
      },
      "outputs": [],
      "source": []
    }
  ],
  "metadata": {
    "colab": {
      "provenance": []
    },
    "kernelspec": {
      "display_name": "Python 3",
      "name": "python3"
    },
    "language_info": {
      "codemirror_mode": {
        "name": "ipython",
        "version": 3
      },
      "file_extension": ".py",
      "mimetype": "text/x-python",
      "name": "python",
      "nbconvert_exporter": "python",
      "pygments_lexer": "ipython3",
      "version": "3.11.9"
    }
  },
  "nbformat": 4,
  "nbformat_minor": 0
}
